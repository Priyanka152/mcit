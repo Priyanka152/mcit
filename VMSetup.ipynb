{
  "nbformat": 4,
  "nbformat_minor": 0,
  "metadata": {
    "colab": {
      "name": "Untitled2.ipynb",
      "provenance": [],
      "collapsed_sections": [],
      "authorship_tag": "ABX9TyMSMqGBLuvdMiWiqxdF7/lX",
      "include_colab_link": true
    },
    "kernelspec": {
      "name": "python3",
      "display_name": "Python 3"
    }
  },
  "cells": [
    {
      "cell_type": "markdown",
      "metadata": {
        "id": "view-in-github",
        "colab_type": "text"
      },
      "source": [
        "<a href=\"https://colab.research.google.com/github/irajhedayati/mcit/blob/master/VMSetup.ipynb\" target=\"_parent\"><img src=\"https://colab.research.google.com/assets/colab-badge.svg\" alt=\"Open In Colab\"/></a>"
      ]
    },
    {
      "cell_type": "markdown",
      "metadata": {
        "id": "7m5r8qBqmfZX",
        "colab_type": "text"
      },
      "source": [
        "# Connect VM to the cluster\n",
        "\n",
        "This guide walks you through to setup your VM to connect to the CDH cluster. At any step you had a problem, send me a message through **Mio** and mention \n",
        "\n",
        "- the step number\n",
        "- the error/log."
      ]
    },
    {
      "cell_type": "markdown",
      "metadata": {
        "id": "koz0xcyTnGAg",
        "colab_type": "text"
      },
      "source": [
        "## Setup naming resolution\n",
        "\n",
        "The cluster DNS name is `quickstart.cloudera` which is not set in and DNS. Hence, you need to setup your local name resolution system to transflate this name to the IP of the cluster which is `172.16.129.58`.\n",
        "\n",
        "Most of the configurations are based on the hostname. You should be able to reach the cluster using it. In a terminal run\n",
        "\n",
        "```bash\n",
        "ping quickstart.cloudera\n",
        "```\n",
        "\n",
        "If you get **ping: unknown host quickstart.cloudera** message, then do the following, otherwise skip to the next step.\n",
        "\n",
        "1. Open `/etc/hosts` file (it is used for name to IP conversion). Note that it is a system file and you should use \"sudo\"\n",
        "\n",
        "  ```bash\n",
        "  sudo nano /etc/hosts\n",
        "  ```\n",
        "1. Add the following entry to the end of the file, (you could use either\n",
        "SPACE or TAB character)\n",
        "  ```bash\n",
        "  172.16.129.58\tquickstart.cloudera\n",
        "  ```\n",
        "1. Save the file and exit\n",
        "1. Make sure that it works by pinging the hostname again."
      ]
    },
    {
      "cell_type": "markdown",
      "metadata": {
        "id": "vtptg47voOaI",
        "colab_type": "text"
      },
      "source": [
        "## Setup JAVA_HOME\n",
        "\n",
        "Hadoop commands rely on `JAVA_HOME` environment variable. Make sure that it is set properly.\n",
        "\n",
        "\n",
        "1. Open `~/.bashrc` file\n",
        "  ```\n",
        "  nano ~/.bashrc\n",
        "  ```\n",
        "1. Add the following line\n",
        "  ```\n",
        "  export JAVA_HOME=$(readlink -f /usr/bin/java | sed \"s:bin/java::\")\n",
        "  ```\n",
        "1. Source the script to take effect\n",
        "  ```\n",
        "  source ~/.bashrc\n",
        "  ```"
      ]
    },
    {
      "cell_type": "markdown",
      "metadata": {
        "id": "XOSt169Iotn4",
        "colab_type": "text"
      },
      "source": [
        "## Setup Hadoop\n",
        "\n",
        "You need to have the slides from the course 3 handy as most of the steps\n",
        "rely on your knowledge of Hadoop setup and confiugration.\n",
        "The Hadoop connection is all about the configuraiton files and environment\n",
        "variables.\n",
        "\n",
        "1. Create a directory for the configuration files of the Hadoop cluster.\n",
        "  ```\n",
        "  mkdir -p ~/opt/hadoop/etc/mcit_cluster/\n",
        "  ```\n",
        "1. Set Hadoop configuration directory environment variable. To do so,\n",
        "Open the \"~/.bashrc\" file\n",
        "  ```\n",
        "  nano ~/.bashrc\n",
        "  ```\n",
        "1. Add/edit `HADOOP_CONF_DIR` variable\n",
        "  ```\n",
        "  export HADOOP_CONF_DIR=~/opt/hadoop/etc/mcit_cluster/\n",
        "  ```\n",
        "1. Source the script to take effect.\n",
        "  ```\n",
        "  source ~/.bashrc\n",
        "  ```\n",
        "   and test it. The following command should print \n",
        "   `~/opt/hadoop/etc/mcit_cluster/` replaced '~' with full path.\n",
        "\n",
        "  ```\n",
        "  echo $HADOOP_CONF_DIR\n",
        "  ```\n",
        "\n",
        "1. Download the required configuration files from cluster. If asked for \n",
        "   a password, use **cloudera**.\n",
        "  ```\n",
        "   scp cloudera@quickstart.cloudera:/etc/hadoop/conf/core-site.xml $HADOOP_CONF_DIR/\n",
        "   scp cloudera@quickstart.cloudera:/etc/hadoop/conf/hdfs-site.xml $HADOOP_CONF_DIR/\n",
        "   scp cloudera@quickstart.cloudera:/etc/hadoop/conf/mapred-site.xml $HADOOP_CONF_DIR/\n",
        "   scp cloudera@quickstart.cloudera:/etc/hadoop/conf/yarn-site.xml $HADOOP_CONF_DIR/\n",
        "  ```\n",
        "1. Test your connection\n",
        "  ```\n",
        "  hadoop fs -ls /\n",
        "  ```\n",
        "  you should see folders like _solr_ and _benchmark_.\n",
        "\n"
      ]
    },
    {
      "cell_type": "markdown",
      "metadata": {
        "id": "Ff1P6dl2ppSa",
        "colab_type": "text"
      },
      "source": [
        "## Connect to Hive\n",
        "\n",
        "Remember that Hive is using HDFS as the storage for the data. Hence, you \n",
        "should have finished the step 2 properly.\n",
        "\n",
        "In order to connect to Hive through the command line, we use **beeline**:\n",
        "\n",
        "```\n",
        "beeline -u jdbc:hive2://quickstart.cloudera:10000\n",
        "0: jdbc:hive2://quickstart.cloudera:10000>\n",
        "```"
      ]
    },
    {
      "cell_type": "markdown",
      "metadata": {
        "id": "E83CB5uGp2Jh",
        "colab_type": "text"
      },
      "source": [
        "## A list of links\n",
        "\n",
        "The username and password if needed is \n",
        "- username: cloudera\n",
        "- password: cloudera\n",
        "\n",
        "The following lineks are available\n",
        "\n",
        "- http://quickstart.cloudera:7180 cluster manager\n",
        "- http://quickstart.cloudera:50070 namenode\n",
        "- **jdbs:hive2://quickstart.cloudera:10000** Hive server JDBC\n",
        "- http://quickstart.cloudera:10002 Hive UI\n",
        "- http://quickstart.cloudera:8888 Hue\n",
        "- **quickstart.cloudera:2181** Zookeeper\n",
        "- http://quickstart.cloudera:8088 YARN resource manager\n",
        "- http://quickstart.cloudera:8080 Zeppelin\n",
        "\n",
        "> If Zeppelin is not working, SSH to the server and run `/home/cloudera/opt/zeppelin/bin/zeppelin-daemon.sh start`\n",
        "\n",
        "> To start with Hue, check out [Cloudera website](https://docs.cloudera.com/documentation/enterprise/6/6.3/topics/hue.html)"
      ]
    }
  ]
}